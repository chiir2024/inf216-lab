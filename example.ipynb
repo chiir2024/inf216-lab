# Cell 1: Mount Google Drive in Colab
from google.colab import drive
drive.mount('/content/drive')

# Cell 2: Install Necessary Dependencies
!pip install -r /content/drive/MyDrive/ds-lab/repo/requirements.txt

# Cell 3: Import Libraries
import pandas as pd
import matplotlib.pyplot as plt

# Cell 4: Load and Analyze Sample Data
df = pd.read_csv('/content/drive/MyDrive/ds-lab/repo/data.csv')
print(df.head())  # Show first few rows
print(df.describe())  # Basic stats

# Cell 5: Plot Data
plt.plot(df['date'], df['value'], marker='o')
plt.title('Value Over Time')
plt.xlabel('Date')
plt.ylabel('Value')
plt.xticks(rotation=45)
plt.show()
